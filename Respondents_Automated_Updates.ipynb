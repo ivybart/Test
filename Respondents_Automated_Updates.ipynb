{
  "nbformat": 4,
  "nbformat_minor": 0,
  "metadata": {
    "colab": {
      "provenance": [],
      "mount_file_id": "1Fn8824XHwT3YgQdkCS3SwGzMNWbWqxux",
      "authorship_tag": "ABX9TyN+ey9+aRELwAL/HO7MolpG",
      "include_colab_link": true
    },
    "kernelspec": {
      "name": "python3",
      "display_name": "Python 3"
    },
    "language_info": {
      "name": "python"
    }
  },
  "cells": [
    {
      "cell_type": "markdown",
      "metadata": {
        "id": "view-in-github",
        "colab_type": "text"
      },
      "source": [
        "<a href=\"https://colab.research.google.com/github/ivybart/Test/blob/main/Respondents_Automated_Updates.ipynb\" target=\"_parent\"><img src=\"https://colab.research.google.com/assets/colab-badge.svg\" alt=\"Open In Colab\"/></a>"
      ]
    },
    {
      "cell_type": "code",
      "execution_count": null,
      "metadata": {
        "id": "4jOI8CKfHYNX"
      },
      "outputs": [],
      "source": [
        "# Install the required dependencies\n",
        "!pip install geopandas pandas shapely contextily matplotlib"
      ]
    },
    {
      "cell_type": "code",
      "source": [
        "# import required libraries\n",
        "import pandas as pd\n",
        "import geopandas as gpd\n",
        "import contextily as ctx\n",
        "import matplotlib.pyplot as plt\n",
        "from datetime import datetime"
      ],
      "metadata": {
        "id": "84NXj7E1l-DF"
      },
      "execution_count": 3,
      "outputs": []
    },
    {
      "cell_type": "code",
      "source": [
        "# Upload required csvs\n",
        "from google.colab import files\n",
        "uploaded = files.upload()\n",
        "\n"
      ],
      "metadata": {
        "colab": {
          "base_uri": "https://localhost:8080/",
          "height": 73
        },
        "id": "u53o_uzBmSk6",
        "outputId": "487628e8-715b-41a3-d9aa-1dd1eb30e88c"
      },
      "execution_count": 4,
      "outputs": [
        {
          "output_type": "display_data",
          "data": {
            "text/plain": [
              "<IPython.core.display.HTML object>"
            ],
            "text/html": [
              "\n",
              "     <input type=\"file\" id=\"files-c66b5b65-a285-473d-8229-353284283dab\" name=\"files[]\" multiple disabled\n",
              "        style=\"border:none\" />\n",
              "     <output id=\"result-c66b5b65-a285-473d-8229-353284283dab\">\n",
              "      Upload widget is only available when the cell has been executed in the\n",
              "      current browser session. Please rerun this cell to enable.\n",
              "      </output>\n",
              "      <script>// Copyright 2017 Google LLC\n",
              "//\n",
              "// Licensed under the Apache License, Version 2.0 (the \"License\");\n",
              "// you may not use this file except in compliance with the License.\n",
              "// You may obtain a copy of the License at\n",
              "//\n",
              "//      http://www.apache.org/licenses/LICENSE-2.0\n",
              "//\n",
              "// Unless required by applicable law or agreed to in writing, software\n",
              "// distributed under the License is distributed on an \"AS IS\" BASIS,\n",
              "// WITHOUT WARRANTIES OR CONDITIONS OF ANY KIND, either express or implied.\n",
              "// See the License for the specific language governing permissions and\n",
              "// limitations under the License.\n",
              "\n",
              "/**\n",
              " * @fileoverview Helpers for google.colab Python module.\n",
              " */\n",
              "(function(scope) {\n",
              "function span(text, styleAttributes = {}) {\n",
              "  const element = document.createElement('span');\n",
              "  element.textContent = text;\n",
              "  for (const key of Object.keys(styleAttributes)) {\n",
              "    element.style[key] = styleAttributes[key];\n",
              "  }\n",
              "  return element;\n",
              "}\n",
              "\n",
              "// Max number of bytes which will be uploaded at a time.\n",
              "const MAX_PAYLOAD_SIZE = 100 * 1024;\n",
              "\n",
              "function _uploadFiles(inputId, outputId) {\n",
              "  const steps = uploadFilesStep(inputId, outputId);\n",
              "  const outputElement = document.getElementById(outputId);\n",
              "  // Cache steps on the outputElement to make it available for the next call\n",
              "  // to uploadFilesContinue from Python.\n",
              "  outputElement.steps = steps;\n",
              "\n",
              "  return _uploadFilesContinue(outputId);\n",
              "}\n",
              "\n",
              "// This is roughly an async generator (not supported in the browser yet),\n",
              "// where there are multiple asynchronous steps and the Python side is going\n",
              "// to poll for completion of each step.\n",
              "// This uses a Promise to block the python side on completion of each step,\n",
              "// then passes the result of the previous step as the input to the next step.\n",
              "function _uploadFilesContinue(outputId) {\n",
              "  const outputElement = document.getElementById(outputId);\n",
              "  const steps = outputElement.steps;\n",
              "\n",
              "  const next = steps.next(outputElement.lastPromiseValue);\n",
              "  return Promise.resolve(next.value.promise).then((value) => {\n",
              "    // Cache the last promise value to make it available to the next\n",
              "    // step of the generator.\n",
              "    outputElement.lastPromiseValue = value;\n",
              "    return next.value.response;\n",
              "  });\n",
              "}\n",
              "\n",
              "/**\n",
              " * Generator function which is called between each async step of the upload\n",
              " * process.\n",
              " * @param {string} inputId Element ID of the input file picker element.\n",
              " * @param {string} outputId Element ID of the output display.\n",
              " * @return {!Iterable<!Object>} Iterable of next steps.\n",
              " */\n",
              "function* uploadFilesStep(inputId, outputId) {\n",
              "  const inputElement = document.getElementById(inputId);\n",
              "  inputElement.disabled = false;\n",
              "\n",
              "  const outputElement = document.getElementById(outputId);\n",
              "  outputElement.innerHTML = '';\n",
              "\n",
              "  const pickedPromise = new Promise((resolve) => {\n",
              "    inputElement.addEventListener('change', (e) => {\n",
              "      resolve(e.target.files);\n",
              "    });\n",
              "  });\n",
              "\n",
              "  const cancel = document.createElement('button');\n",
              "  inputElement.parentElement.appendChild(cancel);\n",
              "  cancel.textContent = 'Cancel upload';\n",
              "  const cancelPromise = new Promise((resolve) => {\n",
              "    cancel.onclick = () => {\n",
              "      resolve(null);\n",
              "    };\n",
              "  });\n",
              "\n",
              "  // Wait for the user to pick the files.\n",
              "  const files = yield {\n",
              "    promise: Promise.race([pickedPromise, cancelPromise]),\n",
              "    response: {\n",
              "      action: 'starting',\n",
              "    }\n",
              "  };\n",
              "\n",
              "  cancel.remove();\n",
              "\n",
              "  // Disable the input element since further picks are not allowed.\n",
              "  inputElement.disabled = true;\n",
              "\n",
              "  if (!files) {\n",
              "    return {\n",
              "      response: {\n",
              "        action: 'complete',\n",
              "      }\n",
              "    };\n",
              "  }\n",
              "\n",
              "  for (const file of files) {\n",
              "    const li = document.createElement('li');\n",
              "    li.append(span(file.name, {fontWeight: 'bold'}));\n",
              "    li.append(span(\n",
              "        `(${file.type || 'n/a'}) - ${file.size} bytes, ` +\n",
              "        `last modified: ${\n",
              "            file.lastModifiedDate ? file.lastModifiedDate.toLocaleDateString() :\n",
              "                                    'n/a'} - `));\n",
              "    const percent = span('0% done');\n",
              "    li.appendChild(percent);\n",
              "\n",
              "    outputElement.appendChild(li);\n",
              "\n",
              "    const fileDataPromise = new Promise((resolve) => {\n",
              "      const reader = new FileReader();\n",
              "      reader.onload = (e) => {\n",
              "        resolve(e.target.result);\n",
              "      };\n",
              "      reader.readAsArrayBuffer(file);\n",
              "    });\n",
              "    // Wait for the data to be ready.\n",
              "    let fileData = yield {\n",
              "      promise: fileDataPromise,\n",
              "      response: {\n",
              "        action: 'continue',\n",
              "      }\n",
              "    };\n",
              "\n",
              "    // Use a chunked sending to avoid message size limits. See b/62115660.\n",
              "    let position = 0;\n",
              "    do {\n",
              "      const length = Math.min(fileData.byteLength - position, MAX_PAYLOAD_SIZE);\n",
              "      const chunk = new Uint8Array(fileData, position, length);\n",
              "      position += length;\n",
              "\n",
              "      const base64 = btoa(String.fromCharCode.apply(null, chunk));\n",
              "      yield {\n",
              "        response: {\n",
              "          action: 'append',\n",
              "          file: file.name,\n",
              "          data: base64,\n",
              "        },\n",
              "      };\n",
              "\n",
              "      let percentDone = fileData.byteLength === 0 ?\n",
              "          100 :\n",
              "          Math.round((position / fileData.byteLength) * 100);\n",
              "      percent.textContent = `${percentDone}% done`;\n",
              "\n",
              "    } while (position < fileData.byteLength);\n",
              "  }\n",
              "\n",
              "  // All done.\n",
              "  yield {\n",
              "    response: {\n",
              "      action: 'complete',\n",
              "    }\n",
              "  };\n",
              "}\n",
              "\n",
              "scope.google = scope.google || {};\n",
              "scope.google.colab = scope.google.colab || {};\n",
              "scope.google.colab._files = {\n",
              "  _uploadFiles,\n",
              "  _uploadFilesContinue,\n",
              "};\n",
              "})(self);\n",
              "</script> "
            ]
          },
          "metadata": {}
        },
        {
          "output_type": "stream",
          "name": "stdout",
          "text": [
            "Saving All_Data.csv to All_Data.csv\n"
          ]
        }
      ]
    },
    {
      "cell_type": "code",
      "source": [
        "# set up filepaths\n",
        "csv_file = 'All_Data.csv'\n",
        "shapefile = 'PartA.shp'"
      ],
      "metadata": {
        "id": "ZQiA2Ke4mw0a"
      },
      "execution_count": 5,
      "outputs": []
    },
    {
      "cell_type": "code",
      "source": [
        "#Read CSV and filter to today's date\n",
        "df = pd.read_csv(csv_file)\n",
        "# Preview all column headers and the first 5 rows\n",
        "print(\"Column Headers:\", df.columns.tolist())\n",
        "print(\"\\nFirst 5 Rows:\")\n",
        "print(df.head())\n",
        "\n",
        "\n",
        "filter_date = '2024-10-30'\n",
        "\n",
        "# filter to the required data\n",
        "df_today = df[df['date'] == filter_date]\n",
        "\n",
        "# Convert to geodataframe\n",
        "gdf = gpd.GeoDataFrame(\n",
        "    df_today,\n",
        "    geometry=gpd.points_from_xy(df_today['_gps_location_longitude.1'], df_today['_gps_location_latitude.1']),\n",
        "    crs=\"EPSG:4326\"\n",
        ")"
      ],
      "metadata": {
        "colab": {
          "base_uri": "https://localhost:8080/"
        },
        "id": "9bSFXkkomxJC",
        "outputId": "bfe51c2b-92bd-4ec4-b448-9de3b3eba72d"
      },
      "execution_count": 21,
      "outputs": [
        {
          "output_type": "stream",
          "name": "stdout",
          "text": [
            "Column Headers: ['collector_name', 'date', 'zone', 'zubzone', 'master_operator', 'premise_type', 'housing_type', 'who_manages_ablution', 'domestic_house_types', 'number_of_hh', 'number_of_persons_per_household', 'number_of_livestock_in_household', 'building_name', 'mdu_category', 'mdu_type', 'number_of_domestic_units_per_hh', 'number_of_commercial_units', 'type_of_commercial_unit', 'number_of_institution_in_the_mdu', 'type_of_institutions_in_the_mdu', 'commercial_types', 'industrial_types', 'institution_types', 'health_facility', 'category_of_health_facilty', 'institution_category', 'number_of_people_in_institution', 'number_of_livestock_in_institution', 'company_email', 'number_of_taps', 'average_no_of_pple_served_by_kiosk_perday', 'kiosk_types', 'average_no_of_people_served_at_the_ablution_block', 'first_name_landlord', 'middle_name_landlord', 'surname_landlord', 'lr_no', 'owner_address_cell', 'alternative_phone', 'previous_owner_name', 'previous_owner_address_cell', 'address_of_connection_same', 'connection_address_name', 'customer_address_cell', 'alternative_phone_customer', 'customer_connected', 'reasons_for_not_connected', 'last_connection_application', 'connection_shared_among_households', 'number_of_people_in_smh_household', 'number_of_livestock_in_smh_household', 'number_of_livestock_in_mdu_household', 'number_of_people_in_mdu_household', 'average_number_of_people', 'account_known', 'reasons_for_account_number_not_known', 'account_no', 'extension', 'account_name', 'account_labeled_on_wall', 'billing_type', 'billing_status', 'why_customer_is_not_billed', 'frequency_of_bill_2', 'bill_delivery_method', 'connection_status', 'how_often_do_you_receive_water', 'days_with_supply', 'daily_hours', 'hours_with_supply_daily/6am_to_noon', 'hours_with_supply_daily/noon_to_6pm', 'hours_with_supply_daily/6pm_to_12am', 'hours_with_supply_daily/12am_to_6am', 'hours_with_supply_daily/through_out', 'last_time_to_receive_water', 'disconnection_duration', 'storage_tank_available', 'storage_tank_location/roof_top', 'storage_tank_location/underground', 'storage_tank_location/onground', 'storage_capacity', 'tank_location_in_relation_to_water_meter', 'water_sources/individual_connection_on_the_plot', \"water_sources/individual_connection_on_someone_else's_plot\", 'water_sources/communal_tap', 'water_sources/water_kiosk', 'water_sources/public_standpipe', 'water_sources/rivers/streams/springs/dam', 'water_sources/metered_borehole', 'water_sources/un-metered_borehole', 'water_sources/small_scale_service_providers(sssp)', 'water_sources/water_tanker/bowser', 'water_sources/rain_water', 'water_sources/community_projects', 'water_sources/informal_water_vendor', 'water_sources/private_well', 'water_sources/public_well', 'water_sources/leak_in_distribution_network', 'water_sources/vandalized_pipe', 'water_sources/unbilled', 'water_sources/other', 'water_sources_other', 'name_of_sssp', 'name_community_project', 'water_connection', 'gps_location', '_gps_location_latitude', '_gps_location_longitude', '_gps_location_altitude', '_gps_location_precision', 'meter_location', 'meter_access', 'how_far_inside_the_premise', 'why_access_to_meter_location_is_denied', 'meter_status', 'meter_settlement', 'meter_engraved', 'meter_material', 'meter_size', 'inlet_pipe_size', 'meter_protected', 'meter_position', 'meter_flow_direction', 'accessories_label', 'valve_before_meter', 'valve_after_meter', 'meter_seal', 'connection_seal', 'pipe_material', 'pipe_material_other', 'meter_state', 'meter_brand', 'meter_brand_other', 'meter_type', 'meter_type_other', 'meter_no', 'meter_class', 'meter_readings', 'image_of_meter', 'metering_problems/meter_register_not_visible,_broken,_flooded', 'metering_problems/leak_around_meter', 'metering_problems/none', 'metering_problems1/meter_register_not_visible,_broken,_flooded', 'metering_problems1/broken_hood', 'metering_problems1/leak_before_meter', 'metering_problems1/leak_after_meter', 'metering_problems1/covered_by_cement,_paint,_soil', 'metering_problems1/misaligned_dial', 'metering_problems1/none', 'meter_read_monthly', 'installation_date_known', 'installation_date', 'customer_willing_to_be_connected', 'water_connectable', 'approximate_distance', 'number_of_people_in_multi_dwelling_household', 'average_number_of_people_in_each_household', 'water_source/individual_connection_on_the_plot', \"water_source/individual_connection_on_someone_else's_plot\", 'water_source/communal_tap', 'water_source/water_kiosk', 'water_source/public_standpipe', 'water_source/rivers/streams/springs/dam', 'water_source/metered_borehole', 'water_source/un-metered_borehole', 'water_source/small_scale_service_providers(sssp)', 'water_source/water_tanker/bowser', 'water_source/rain_water', 'water_source/community_projects', 'water_source/informal_water_vendor', 'water_source/private_well', 'water_source/public_well', 'water_source/leak_in_distribution_network', 'water_source/vandalized_pipe', 'water_source/unbilled', 'water_source/other', 'water_source_other', 'name_of_sssp.1', 'name_community_project.1', 'presence_of_a_toilet_facility', 'what_is_the_location_of_the_toilet_institution', 'what_is_the_location_of_the_toilet', 'is_the_toilet_accessible_functional_and_private', 'is_there_a_toilet_dedicated_for_stuff_members', 'are_there_toilets_dedicated_for_students_patients', 'are_the_toilets_sex_separeted', 'do_the_toilets_have_facilities_for_menstruation_hygiene_management', 'is_the_toilet_access_disabled_friendly', 'is_the_toilet_facility_shared_with_other_who_are_members_of_your_household', 'households_using_toilet_facility', 'number_of_doors_male', 'number_of_doors_female', 'category_of_toilet_facility', 'what_type_is_the_flush_toilet_facility', 'what_type_is_the_pour_flush_toilet_facility', 'what_type_is_the_pit_toilet_facility', 'what_type_is_the_container_toilet_facility', 'why_are_you_not_connected_to_a_sewer_network', 'type_of_containment', 'number_of_septic', 'do_you_generate_biogas', 'containment_location_relative_to_the_capture_facility', 'is_the_excreta_and_effluent_in_the_containment_overflowing_or_discharging_to_the_surface_environment', 'what_happens_whe_the_containment_fills_up', 'on_average_how_often_does_your_pit_or_septic_tank_get_emptied', 'Specify', 'who_did_the_emptying', 'what_was_done_with_the_material_extracted_from_the_septic_tank', 'how_much_did_you_pay_for_manual_emptying_exhaustion', 'were_you_satisfied_with_the_method_and_cost_of_emptying', 'remarks_emptying', 'presense_of_handwash_facility', 'how_do_you_dispose_the_grey_water', 'how_do_you_dispose_the_grey_water_other', 'what_alternative_does_the_household_use_for_sanitation', 'what_alternative_does_the_institution_use_for_sanitation', 'overall_service', 'hours_per_day', 'water_quality', 'water_pressure', 'cost_of_water', 'bills', 'repairs', 'communication', 'reported_leakages', 'gps_location.1', '_gps_location_latitude.1', '_gps_location_longitude.1', '_gps_location_altitude.1', '_gps_location_precision.1', 'remarks', 'form_version', 'start', 'end', 'today', 'deviceid', 'imei', 'phonenumber', 'instanceID', '_id', '_uuid', '_submission_time', '_date_modified', '_tags', '_notes', '_version', '_duration', '_submitted_by', '_total_media', '_media_count', '_media_all_received', '_xform_id']\n",
            "\n",
            "First 5 Rows:\n",
            "     collector_name        date      zone   zubzone  \\\n",
            "0  charles_muswanya  2024-10-18  pro_poor  Nyalenda   \n",
            "1  charles_muswanya  2024-10-18  pro_poor  Nyalenda   \n",
            "2  charles_muswanya  2024-10-18  pro_poor  Nyalenda   \n",
            "3  charles_muswanya  2024-10-18  pro_poor  Nyalenda   \n",
            "4  charles_muswanya  2024-10-18  pro_poor  Nyalenda   \n",
            "\n",
            "                        master_operator                premise_type  \\\n",
            "0  nyalenda_water_consumer_self_help_gr  domestic/residential/mixed   \n",
            "1  nyalenda_water_consumer_self_help_gr  domestic/residential/mixed   \n",
            "2  nyalenda_water_consumer_self_help_gr  domestic/residential/mixed   \n",
            "3  nyalenda_water_consumer_self_help_gr  domestic/residential/mixed   \n",
            "4  nyalenda_water_consumer_self_help_gr  domestic/residential/mixed   \n",
            "\n",
            "                                  housing_type  who_manages_ablution  \\\n",
            "0  formal_middle_income_to_high_income_housing                   NaN   \n",
            "1  formal_middle_income_to_high_income_housing                   NaN   \n",
            "2  formal_middle_income_to_high_income_housing                   NaN   \n",
            "3  formal_middle_income_to_high_income_housing                   NaN   \n",
            "4  formal_middle_income_to_high_income_housing                   NaN   \n",
            "\n",
            "   domestic_house_types  number_of_hh  ...                    _date_modified  \\\n",
            "0  multi_dwelling_units           NaN  ...  2024-10-18T10:18:12.787924+00:00   \n",
            "1  multi_dwelling_units           NaN  ...  2024-10-18T10:18:14.017049+00:00   \n",
            "2  multi_dwelling_units           NaN  ...  2024-10-18T10:18:15.261952+00:00   \n",
            "3  multi_dwelling_units           NaN  ...  2024-10-18T10:18:16.799369+00:00   \n",
            "4  multi_dwelling_units           NaN  ...  2024-10-18T10:18:17.953573+00:00   \n",
            "\n",
            "   _tags _notes      _version _duration   _submitted_by  _total_media  \\\n",
            "0    NaN    NaN  202410180624     146.0  kiwasco_survey             1   \n",
            "1    NaN    NaN  202410180624     292.0  kiwasco_survey             1   \n",
            "2    NaN    NaN  202410180624     283.0  kiwasco_survey             1   \n",
            "3    NaN    NaN  202410180624     246.0  kiwasco_survey             1   \n",
            "4    NaN    NaN  202410180624     200.0  kiwasco_survey             1   \n",
            "\n",
            "  _media_count  _media_all_received  _xform_id  \n",
            "0            1                 True     825769  \n",
            "1            1                 True     825769  \n",
            "2            1                 True     825769  \n",
            "3            1                 True     825769  \n",
            "4            1                 True     825769  \n",
            "\n",
            "[5 rows x 252 columns]\n"
          ]
        },
        {
          "output_type": "stream",
          "name": "stderr",
          "text": [
            "<ipython-input-21-86c53df312d7>:2: DtypeWarning: Columns (21,23,24,36,102,103,129,134,177,178,211,237) have mixed types. Specify dtype option on import or set low_memory=False.\n",
            "  df = pd.read_csv(csv_file)\n"
          ]
        }
      ]
    },
    {
      "cell_type": "code",
      "source": [
        "# Load shapefile\n",
        "shape = gpd.read_file(shapefile)\n",
        "shape = shape.to_crs(gdf.crs)\n",
        "\n",
        "# clip points to shapefile\n",
        "gdf_clipped = gpd.clip(gdf, shape)\n",
        "\n",
        "# specify output columns\n",
        "output_gdf = gdf_clipped[['collector_name', 'date', 'zone', 'zubzone', 'master_operator', '_gps_location_latitude','_gps_location_longitude','_gps_location_precision','_gps_location_latitude.1','_gps_location_longitude.1','_gps_location_precision.1']]\n"
      ],
      "metadata": {
        "id": "-UwPXujWnVC5"
      },
      "execution_count": 23,
      "outputs": []
    },
    {
      "cell_type": "code",
      "source": [
        "# Visualize points on a basemap\n",
        "fig, ax = plt.subplots(figsize=(10, 10))\n",
        "#shape.plot(ax=ax, edgecolor=\"black\", color=\"none\")  # Plot shapefile boundary\n",
        "output_gdf.plot(ax=ax, color=\"red\", markersize=10, label=\"Filtered Points\")  # Plot points\n",
        "ctx.add_basemap(ax, crs=gdf.crs, source=ctx.providers.Esri.WorldImagery)  # Add basemap\n",
        "plt.legend()\n",
        "plt.show()"
      ],
      "metadata": {
        "colab": {
          "base_uri": "https://localhost:8080/",
          "height": 1000
        },
        "id": "a0-KUk0inUha",
        "outputId": "c36d1c2a-8195-4f19-af64-33e3e0450f97"
      },
      "execution_count": 28,
      "outputs": [
        {
          "output_type": "stream",
          "name": "stderr",
          "text": [
            "/usr/local/lib/python3.10/dist-packages/pandas/plotting/_matplotlib/core.py:891: UserWarning: The label '_gps_location_latitude' of <matplotlib.lines.Line2D object at 0x7c7262131300> starts with '_'. It is thus excluded from the legend.\n",
            "  ax.legend(handles, labels, loc=\"best\", title=title)\n",
            "/usr/local/lib/python3.10/dist-packages/pandas/plotting/_matplotlib/core.py:891: UserWarning: The label '_gps_location_longitude' of <matplotlib.lines.Line2D object at 0x7c7262131690> starts with '_'. It is thus excluded from the legend.\n",
            "  ax.legend(handles, labels, loc=\"best\", title=title)\n",
            "/usr/local/lib/python3.10/dist-packages/pandas/plotting/_matplotlib/core.py:891: UserWarning: The label '_gps_location_precision' of <matplotlib.lines.Line2D object at 0x7c7262131a50> starts with '_'. It is thus excluded from the legend.\n",
            "  ax.legend(handles, labels, loc=\"best\", title=title)\n",
            "/usr/local/lib/python3.10/dist-packages/pandas/plotting/_matplotlib/core.py:891: UserWarning: The label '_gps_location_latitude.1' of <matplotlib.lines.Line2D object at 0x7c7262131de0> starts with '_'. It is thus excluded from the legend.\n",
            "  ax.legend(handles, labels, loc=\"best\", title=title)\n",
            "/usr/local/lib/python3.10/dist-packages/pandas/plotting/_matplotlib/core.py:891: UserWarning: The label '_gps_location_longitude.1' of <matplotlib.lines.Line2D object at 0x7c7262132170> starts with '_'. It is thus excluded from the legend.\n",
            "  ax.legend(handles, labels, loc=\"best\", title=title)\n",
            "/usr/local/lib/python3.10/dist-packages/pandas/plotting/_matplotlib/core.py:891: UserWarning: The label '_gps_location_precision.1' of <matplotlib.lines.Line2D object at 0x7c72621322c0> starts with '_'. It is thus excluded from the legend.\n",
            "  ax.legend(handles, labels, loc=\"best\", title=title)\n",
            "/usr/local/lib/python3.10/dist-packages/contextily/tile.py:592: RuntimeWarning: invalid value encountered in subtract\n",
            "  lon_length = np.subtract(*lon_range)\n",
            "/usr/local/lib/python3.10/dist-packages/contextily/tile.py:597: RuntimeWarning: divide by zero encountered in scalar divide\n",
            "  zoom_lat = np.ceil(np.log2(360 * 2.0 / lat_length))\n"
          ]
        },
        {
          "output_type": "error",
          "ename": "ValueError",
          "evalue": "cannot convert float NaN to integer",
          "traceback": [
            "\u001b[0;31m---------------------------------------------------------------------------\u001b[0m",
            "\u001b[0;31mValueError\u001b[0m                                Traceback (most recent call last)",
            "\u001b[0;32m<ipython-input-28-1ad08d71b583>\u001b[0m in \u001b[0;36m<cell line: 5>\u001b[0;34m()\u001b[0m\n\u001b[1;32m      3\u001b[0m \u001b[0;31m#shape.plot(ax=ax, edgecolor=\"black\", color=\"none\")  # Plot shapefile boundary\u001b[0m\u001b[0;34m\u001b[0m\u001b[0;34m\u001b[0m\u001b[0m\n\u001b[1;32m      4\u001b[0m \u001b[0moutput_gdf\u001b[0m\u001b[0;34m.\u001b[0m\u001b[0mplot\u001b[0m\u001b[0;34m(\u001b[0m\u001b[0max\u001b[0m\u001b[0;34m=\u001b[0m\u001b[0max\u001b[0m\u001b[0;34m,\u001b[0m \u001b[0mcolor\u001b[0m\u001b[0;34m=\u001b[0m\u001b[0;34m\"red\"\u001b[0m\u001b[0;34m,\u001b[0m \u001b[0mmarkersize\u001b[0m\u001b[0;34m=\u001b[0m\u001b[0;36m10\u001b[0m\u001b[0;34m,\u001b[0m \u001b[0mlabel\u001b[0m\u001b[0;34m=\u001b[0m\u001b[0;34m\"Filtered Points\"\u001b[0m\u001b[0;34m)\u001b[0m  \u001b[0;31m# Plot points\u001b[0m\u001b[0;34m\u001b[0m\u001b[0;34m\u001b[0m\u001b[0m\n\u001b[0;32m----> 5\u001b[0;31m \u001b[0mctx\u001b[0m\u001b[0;34m.\u001b[0m\u001b[0madd_basemap\u001b[0m\u001b[0;34m(\u001b[0m\u001b[0max\u001b[0m\u001b[0;34m,\u001b[0m \u001b[0mcrs\u001b[0m\u001b[0;34m=\u001b[0m\u001b[0mgdf\u001b[0m\u001b[0;34m.\u001b[0m\u001b[0mcrs\u001b[0m\u001b[0;34m,\u001b[0m \u001b[0msource\u001b[0m\u001b[0;34m=\u001b[0m\u001b[0mctx\u001b[0m\u001b[0;34m.\u001b[0m\u001b[0mproviders\u001b[0m\u001b[0;34m.\u001b[0m\u001b[0mEsri\u001b[0m\u001b[0;34m.\u001b[0m\u001b[0mWorldImagery\u001b[0m\u001b[0;34m)\u001b[0m  \u001b[0;31m# Add basemap\u001b[0m\u001b[0;34m\u001b[0m\u001b[0;34m\u001b[0m\u001b[0m\n\u001b[0m\u001b[1;32m      6\u001b[0m \u001b[0mplt\u001b[0m\u001b[0;34m.\u001b[0m\u001b[0mlegend\u001b[0m\u001b[0;34m(\u001b[0m\u001b[0;34m)\u001b[0m\u001b[0;34m\u001b[0m\u001b[0;34m\u001b[0m\u001b[0m\n\u001b[1;32m      7\u001b[0m \u001b[0mplt\u001b[0m\u001b[0;34m.\u001b[0m\u001b[0mshow\u001b[0m\u001b[0;34m(\u001b[0m\u001b[0;34m)\u001b[0m\u001b[0;34m\u001b[0m\u001b[0;34m\u001b[0m\u001b[0m\n",
            "\u001b[0;32m/usr/local/lib/python3.10/dist-packages/contextily/plotting.py\u001b[0m in \u001b[0;36madd_basemap\u001b[0;34m(ax, zoom, source, interpolation, attribution, attribution_size, reset_extent, crs, resampling, zoom_adjust, **extra_imshow_args)\u001b[0m\n\u001b[1;32m    132\u001b[0m             )\n\u001b[1;32m    133\u001b[0m         \u001b[0;31m# Download image\u001b[0m\u001b[0;34m\u001b[0m\u001b[0;34m\u001b[0m\u001b[0m\n\u001b[0;32m--> 134\u001b[0;31m         image, extent = bounds2img(\n\u001b[0m\u001b[1;32m    135\u001b[0m             \u001b[0mleft\u001b[0m\u001b[0;34m,\u001b[0m\u001b[0;34m\u001b[0m\u001b[0;34m\u001b[0m\u001b[0m\n\u001b[1;32m    136\u001b[0m             \u001b[0mbottom\u001b[0m\u001b[0;34m,\u001b[0m\u001b[0;34m\u001b[0m\u001b[0;34m\u001b[0m\u001b[0m\n",
            "\u001b[0;32m/usr/local/lib/python3.10/dist-packages/contextily/tile.py\u001b[0m in \u001b[0;36mbounds2img\u001b[0;34m(w, s, e, n, zoom, source, ll, wait, max_retries, n_connections, use_cache, zoom_adjust)\u001b[0m\n\u001b[1;32m    264\u001b[0m     \u001b[0mauto_zoom\u001b[0m \u001b[0;34m=\u001b[0m \u001b[0mzoom\u001b[0m \u001b[0;34m==\u001b[0m \u001b[0;34m\"auto\"\u001b[0m\u001b[0;34m\u001b[0m\u001b[0;34m\u001b[0m\u001b[0m\n\u001b[1;32m    265\u001b[0m     \u001b[0;32mif\u001b[0m \u001b[0mauto_zoom\u001b[0m\u001b[0;34m:\u001b[0m\u001b[0;34m\u001b[0m\u001b[0;34m\u001b[0m\u001b[0m\n\u001b[0;32m--> 266\u001b[0;31m         \u001b[0mzoom\u001b[0m \u001b[0;34m=\u001b[0m \u001b[0m_calculate_zoom\u001b[0m\u001b[0;34m(\u001b[0m\u001b[0mw\u001b[0m\u001b[0;34m,\u001b[0m \u001b[0ms\u001b[0m\u001b[0;34m,\u001b[0m \u001b[0me\u001b[0m\u001b[0;34m,\u001b[0m \u001b[0mn\u001b[0m\u001b[0;34m)\u001b[0m\u001b[0;34m\u001b[0m\u001b[0;34m\u001b[0m\u001b[0m\n\u001b[0m\u001b[1;32m    267\u001b[0m     \u001b[0;32mif\u001b[0m \u001b[0mzoom_adjust\u001b[0m\u001b[0;34m:\u001b[0m\u001b[0;34m\u001b[0m\u001b[0;34m\u001b[0m\u001b[0m\n\u001b[1;32m    268\u001b[0m         \u001b[0mzoom\u001b[0m \u001b[0;34m+=\u001b[0m \u001b[0mzoom_adjust\u001b[0m\u001b[0;34m\u001b[0m\u001b[0;34m\u001b[0m\u001b[0m\n",
            "\u001b[0;32m/usr/local/lib/python3.10/dist-packages/contextily/tile.py\u001b[0m in \u001b[0;36m_calculate_zoom\u001b[0;34m(w, s, e, n)\u001b[0m\n\u001b[1;32m    597\u001b[0m     \u001b[0mzoom_lat\u001b[0m \u001b[0;34m=\u001b[0m \u001b[0mnp\u001b[0m\u001b[0;34m.\u001b[0m\u001b[0mceil\u001b[0m\u001b[0;34m(\u001b[0m\u001b[0mnp\u001b[0m\u001b[0;34m.\u001b[0m\u001b[0mlog2\u001b[0m\u001b[0;34m(\u001b[0m\u001b[0;36m360\u001b[0m \u001b[0;34m*\u001b[0m \u001b[0;36m2.0\u001b[0m \u001b[0;34m/\u001b[0m \u001b[0mlat_length\u001b[0m\u001b[0;34m)\u001b[0m\u001b[0;34m)\u001b[0m\u001b[0;34m\u001b[0m\u001b[0;34m\u001b[0m\u001b[0m\n\u001b[1;32m    598\u001b[0m     \u001b[0mzoom\u001b[0m \u001b[0;34m=\u001b[0m \u001b[0mnp\u001b[0m\u001b[0;34m.\u001b[0m\u001b[0mmin\u001b[0m\u001b[0;34m(\u001b[0m\u001b[0;34m[\u001b[0m\u001b[0mzoom_lon\u001b[0m\u001b[0;34m,\u001b[0m \u001b[0mzoom_lat\u001b[0m\u001b[0;34m]\u001b[0m\u001b[0;34m)\u001b[0m\u001b[0;34m\u001b[0m\u001b[0;34m\u001b[0m\u001b[0m\n\u001b[0;32m--> 599\u001b[0;31m     \u001b[0;32mreturn\u001b[0m \u001b[0mint\u001b[0m\u001b[0;34m(\u001b[0m\u001b[0mzoom\u001b[0m\u001b[0;34m)\u001b[0m\u001b[0;34m\u001b[0m\u001b[0;34m\u001b[0m\u001b[0m\n\u001b[0m\u001b[1;32m    600\u001b[0m \u001b[0;34m\u001b[0m\u001b[0m\n\u001b[1;32m    601\u001b[0m \u001b[0;34m\u001b[0m\u001b[0m\n",
            "\u001b[0;31mValueError\u001b[0m: cannot convert float NaN to integer"
          ]
        },
        {
          "output_type": "display_data",
          "data": {
            "text/plain": [
              "<Figure size 1000x1000 with 1 Axes>"
            ],
            "image/png": "[encoded data removed]"
          },
          "metadata": {}
        }
      ]
    },
    {
      "cell_type": "code",
      "source": [
        "# Export Output\n",
        "output_gdf.to_csv('filtered_clipped_data.csv', index=False)\n",
        "files.download('filtered_clipped_data.csv')"
      ],
      "metadata": {
        "id": "QfcPVy1LogES"
      },
      "execution_count": null,
      "outputs": []
    }
  ]
}